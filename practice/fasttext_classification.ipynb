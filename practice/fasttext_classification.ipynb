{
 "cells": [
  {
   "cell_type": "markdown",
   "metadata": {},
   "source": [
    "#  Классификация документов с помощью библиотеки fastText"
   ]
  },
  {
   "cell_type": "markdown",
   "metadata": {},
   "source": [
    "### Установка fastText"
   ]
  },
  {
   "cell_type": "markdown",
   "metadata": {},
   "source": [
    "В папку с настоящим \"ноутбуком\".\n",
    "1. git clone https://github.com/facebookresearch/fastText.git\n",
    "2. cd fastText\n",
    "3. make"
   ]
  },
  {
   "cell_type": "code",
   "execution_count": 1,
   "metadata": {
    "collapsed": true
   },
   "outputs": [],
   "source": [
    "from sklearn.datasets import fetch_20newsgroups\n",
    "import re\n",
    "import nltk"
   ]
  },
  {
   "cell_type": "markdown",
   "metadata": {},
   "source": [
    "## Загрузка датасета 20 newsgroups"
   ]
  },
  {
   "cell_type": "code",
   "execution_count": 2,
   "metadata": {},
   "outputs": [
    {
     "name": "stdout",
     "output_type": "stream",
     "text": [
      "Loading 20 newsgroups dataset for categories:\n",
      "['talk.politics.misc', 'talk.religion.misc', 'comp.graphics', 'sci.space', 'rec.autos']\n",
      "data loaded\n"
     ]
    }
   ],
   "source": [
    "categories = [\n",
    "        'talk.politics.misc',\n",
    "        'talk.religion.misc',\n",
    "        'comp.graphics',\n",
    "        'sci.space',\n",
    "        'rec.autos',\n",
    "    ]\n",
    "remove = ('headers', 'footers', 'quotes')\n",
    "\n",
    "print(\"Loading 20 newsgroups dataset for categories:\")\n",
    "print(categories if categories else \"all\")\n",
    "\n",
    "data_train = fetch_20newsgroups(subset='train', categories=categories,\n",
    "                                shuffle=True, random_state=42, remove=remove)\n",
    "\n",
    "data_test = fetch_20newsgroups(subset='test', categories=categories,\n",
    "                               shuffle=True, random_state=42, remove=remove)\n",
    "print('data loaded')"
   ]
  },
  {
   "cell_type": "markdown",
   "metadata": {},
   "source": [
    "## Предобработка текста"
   ]
  },
  {
   "cell_type": "code",
   "execution_count": 5,
   "metadata": {},
   "outputs": [
    {
     "name": "stdout",
     "output_type": "stream",
     "text": [
      "[nltk_data] Downloading package punkt to\n",
      "[nltk_data]     /Users/annakupriyanova/nltk_data...\n",
      "[nltk_data]   Unzipping tokenizers/punkt.zip.\n"
     ]
    },
    {
     "data": {
      "text/plain": [
       "True"
      ]
     },
     "execution_count": 5,
     "metadata": {},
     "output_type": "execute_result"
    }
   ],
   "source": [
    "nltk.download('punkt')"
   ]
  },
  {
   "cell_type": "code",
   "execution_count": 8,
   "metadata": {},
   "outputs": [
    {
     "name": "stdout",
     "output_type": "stream",
     "text": [
      "[nltk_data] Downloading package stopwords to\n",
      "[nltk_data]     /Users/annakupriyanova/nltk_data...\n",
      "[nltk_data]   Unzipping corpora/stopwords.zip.\n"
     ]
    },
    {
     "data": {
      "text/plain": [
       "True"
      ]
     },
     "execution_count": 8,
     "metadata": {},
     "output_type": "execute_result"
    }
   ],
   "source": [
    "nltk.download('stopwords')"
   ]
  },
  {
   "cell_type": "code",
   "execution_count": 30,
   "metadata": {},
   "outputs": [
    {
     "name": "stdout",
     "output_type": "stream",
     "text": [
      "[nltk_data] Downloading package wordnet to\n",
      "[nltk_data]     /Users/annakupriyanova/nltk_data...\n",
      "[nltk_data]   Unzipping corpora/wordnet.zip.\n"
     ]
    },
    {
     "data": {
      "text/plain": [
       "True"
      ]
     },
     "execution_count": 30,
     "metadata": {},
     "output_type": "execute_result"
    }
   ],
   "source": [
    "nltk.download('wordnet')"
   ]
  },
  {
   "cell_type": "code",
   "execution_count": 39,
   "metadata": {
    "collapsed": true
   },
   "outputs": [],
   "source": [
    "from nltk.tokenize import word_tokenize\n",
    "from nltk.corpus import stopwords\n",
    "from nltk.stem.porter import PorterStemmer\n",
    "from nltk.stem import WordNetLemmatizer\n",
    "import string\n",
    "\n",
    "def preprocess_text(text):\n",
    "    tokens = word_tokenize(text)\n",
    "    # convert to lower case\n",
    "    tokens = [w.lower() for w in tokens]\n",
    "    # remove punctuation from each word\n",
    "    table = str.maketrans('', '', string.punctuation)\n",
    "    stripped = [w.translate(table) for w in tokens]\n",
    "    # remove remaining tokens that are not alphabetic\n",
    "    words = [word for word in stripped if word.isalpha()]\n",
    "    # filter out stop words\n",
    "    stop_words = set(stopwords.words('english'))\n",
    "    words = [w for w in words if not w in stop_words]\n",
    "    # stem the words\n",
    "    porter = PorterStemmer()\n",
    "    words = [porter.stem(word) for word in words]\n",
    "    # lemmatize\n",
    "    # lemmatizer = WordNetLemmatizer()\n",
    "    # words = [lemmatizer.lemmatize(word) for word in words]\n",
    "    return ' '.join(words)"
   ]
  },
  {
   "cell_type": "code",
   "execution_count": 35,
   "metadata": {},
   "outputs": [
    {
     "data": {
      "text/plain": [
       "'wife looked drove one last fall model wayyyyyyyyy underpowered could imagine driving mountain colorado anything approaching highway speed read new model newer improved hp engine quite serious laughed salesman face said broken feel powerful used driving jeep engine believe land cruiser land yacht same also underpowered personal opinion big car roomy nothing spectacular'"
      ]
     },
     "execution_count": 35,
     "metadata": {},
     "output_type": "execute_result"
    }
   ],
   "source": [
    "preprocess_text(data_train.data[0])"
   ]
  },
  {
   "cell_type": "markdown",
   "metadata": {},
   "source": [
    "## Структурирование датасета в формате библиотеки fasttext"
   ]
  },
  {
   "cell_type": "markdown",
   "metadata": {},
   "source": [
    "Формат библиотеки fasttext: каждая строка содержит запись вида \\__label\\__{label_id} text. Например, \\__label\\__1 computers will never die"
   ]
  },
  {
   "cell_type": "code",
   "execution_count": 13,
   "metadata": {
    "collapsed": true
   },
   "outputs": [],
   "source": [
    "def strip_formatting(string):\n",
    "    string = string.lower()\n",
    "    string = re.sub(r\"\\d\", \"\", string)\n",
    "    string = re.sub(r\"\\n\\t\", \" \", string)\n",
    "    string = re.sub(r\"([.!?,'/()])\", r\" \\1 \", string)\n",
    "    return string"
   ]
  },
  {
   "cell_type": "code",
   "execution_count": 22,
   "metadata": {
    "collapsed": true
   },
   "outputs": [],
   "source": [
    "def fasttext_format_dataset(data, target, filename):\n",
    "    with open(filename, 'w') as fout:\n",
    "        for x, y in zip(data, target):\n",
    "            # x = strip_formatting(x)\n",
    "            x = preprocess_text(x)\n",
    "            line = '__label__{} {}'.format(y, x)\n",
    "            fout.write(line + '\\n')"
   ]
  },
  {
   "cell_type": "code",
   "execution_count": 40,
   "metadata": {},
   "outputs": [
    {
     "name": "stdout",
     "output_type": "stream",
     "text": [
      "Train and test datasets are ready.\n"
     ]
    }
   ],
   "source": [
    "# create train dataset in fasttext format\n",
    "fasttext_format_dataset(data_train.data, data_train.target, 'ft_train.txt')\n",
    "\n",
    "# create test dataset in fasttext format\n",
    "fasttext_format_dataset(data_test.data, data_test.target, 'ft_test.txt')\n",
    "\n",
    "print('Train and test datasets are ready.')"
   ]
  },
  {
   "cell_type": "markdown",
   "metadata": {},
   "source": [
    "## Обучение и тестирование модели fasttext"
   ]
  },
  {
   "cell_type": "code",
   "execution_count": 41,
   "metadata": {},
   "outputs": [
    {
     "name": "stderr",
     "output_type": "stream",
     "text": [
      "\r",
      "Read 0M words\n",
      "Number of words:  21309\n",
      "Number of labels: 5\n",
      "\r",
      "Progress:  94.2% words/sec/thread:  870869 lr:  0.005762 loss:  1.601482 ETA:   0h 0m\r",
      "Progress: 100.9% words/sec/thread:  495533 lr: -0.000880 loss:  1.595745 ETA:   0h 0m\r",
      "Progress: 100.0% words/sec/thread:  494845 lr:  0.000000 loss:  1.595745 ETA:   0h 0m\n"
     ]
    }
   ],
   "source": [
    "%%bash\n",
    "./fastText/fasttext supervised -input ft_train.txt -output ft_model"
   ]
  },
  {
   "cell_type": "code",
   "execution_count": 42,
   "metadata": {},
   "outputs": [
    {
     "name": "stdout",
     "output_type": "stream",
     "text": [
      "N\t1740\n",
      "P@1\t0.329\n",
      "R@1\t0.329\n"
     ]
    }
   ],
   "source": [
    "%%bash\n",
    "./fastText/fasttext test ft_model.bin ft_test.txt"
   ]
  },
  {
   "cell_type": "markdown",
   "metadata": {},
   "source": [
    "### Эксперименты с параметрами обучения"
   ]
  },
  {
   "cell_type": "code",
   "execution_count": 92,
   "metadata": {},
   "outputs": [
    {
     "name": "stderr",
     "output_type": "stream",
     "text": [
      "\r",
      "Read 0M words\n",
      "Number of words:  21309\n",
      "Number of labels: 5\n",
      "\r",
      "Progress:   3.6% words/sec/thread:  722810 lr:  0.771072 loss:  1.296156 ETA:   0h 0m\r",
      "Progress:   7.8% words/sec/thread:  796602 lr:  0.737761 loss:  1.071087 ETA:   0h 0m\r",
      "Progress:  12.0% words/sec/thread:  823038 lr:  0.704335 loss:  0.900524 ETA:   0h 0m\r",
      "Progress:  16.2% words/sec/thread:  840714 lr:  0.670246 loss:  0.827891 ETA:   0h 0m\r",
      "Progress:  20.2% words/sec/thread:  847481 lr:  0.638446 loss:  0.765375 ETA:   0h 0m\r",
      "Progress:  23.5% words/sec/thread:  827399 lr:  0.611915 loss:  0.719913 ETA:   0h 0m\r",
      "Progress:  27.0% words/sec/thread:  814817 lr:  0.583731 loss:  0.678697 ETA:   0h 0m\r",
      "Progress:  31.0% words/sec/thread:  821143 lr:  0.551736 loss:  0.662111 ETA:   0h 0m\r",
      "Progress:  34.7% words/sec/thread:  817851 lr:  0.522371 loss:  0.633675 ETA:   0h 0m\r",
      "Progress:  36.7% words/sec/thread:  780933 lr:  0.506001 loss:  0.605237 ETA:   0h 0m\r",
      "Progress:  39.0% words/sec/thread:  755488 lr:  0.488123 loss:  0.591354 ETA:   0h 0m\r",
      "Progress:  43.1% words/sec/thread:  764972 lr:  0.455474 loss:  0.575768 ETA:   0h 0m\r",
      "Progress:  47.1% words/sec/thread:  772002 lr:  0.423390 loss:  0.555686 ETA:   0h 0m\r",
      "Progress:  51.1% words/sec/thread:  779038 lr:  0.391023 loss:  0.530401 ETA:   0h 0m\r",
      "Progress:  55.3% words/sec/thread:  786676 lr:  0.357860 loss:  0.519931 ETA:   0h 0m\r",
      "Progress:  59.3% words/sec/thread:  792427 lr:  0.325776 loss:  0.505363 ETA:   0h 0m\r",
      "Progress:  63.1% words/sec/thread:  793627 lr:  0.295502 loss:  0.488528 ETA:   0h 0m\r",
      "Progress:  65.7% words/sec/thread:  781755 lr:  0.274637 loss:  0.471657 ETA:   0h 0m\r",
      "Progress:  68.4% words/sec/thread:  771865 lr:  0.252777 loss:  0.465842 ETA:   0h 0m\r",
      "Progress:  72.0% words/sec/thread:  770733 lr:  0.224270 loss:  0.450036 ETA:   0h 0m\r",
      "Progress:  75.7% words/sec/thread:  772394 lr:  0.194787 loss:  0.434000 ETA:   0h 0m\r",
      "Progress:  79.5% words/sec/thread:  775740 lr:  0.163809 loss:  0.417355 ETA:   0h 0m\r",
      "Progress:  83.6% words/sec/thread:  780148 lr:  0.131414 loss:  0.402061 ETA:   0h 0m\r",
      "Progress:  86.9% words/sec/thread:  777764 lr:  0.104550 loss:  0.392998 ETA:   0h 0m\r",
      "Progress:  90.1% words/sec/thread:  774908 lr:  0.078918 loss:  0.382240 ETA:   0h 0m\r",
      "Progress:  93.5% words/sec/thread:  772955 lr:  0.052359 loss:  0.370016 ETA:   0h 0m\r",
      "Progress:  97.0% words/sec/thread:  771669 lr:  0.024352 loss:  0.358054 ETA:   0h 0m\r",
      "Progress: 100.0% words/sec/thread:  768035 lr: -0.000029 loss:  0.351206 ETA:   0h 0m\r",
      "Progress: 100.0% words/sec/thread:  766357 lr:  0.000000 loss:  0.351176 ETA:   0h 0m\n"
     ]
    }
   ],
   "source": [
    "%%bash\n",
    "./fastText/fasttext supervised -input ft_train.txt -output ft_model -epoch 100 -lr 0.8 -dim 100"
   ]
  },
  {
   "cell_type": "code",
   "execution_count": 93,
   "metadata": {},
   "outputs": [
    {
     "name": "stdout",
     "output_type": "stream",
     "text": [
      "N\t1740\n",
      "P@1\t0.781\n",
      "R@1\t0.781\n"
     ]
    }
   ],
   "source": [
    "%%bash\n",
    "./fastText/fasttext test ft_model.bin ft_test.txt"
   ]
  },
  {
   "cell_type": "markdown",
   "metadata": {},
   "source": [
    "### Переобучим модель, добавив биграммы"
   ]
  },
  {
   "cell_type": "code",
   "execution_count": 94,
   "metadata": {},
   "outputs": [
    {
     "name": "stderr",
     "output_type": "stream",
     "text": [
      "\r",
      "Read 0M words\n",
      "Number of words:  21309\n",
      "Number of labels: 5\n",
      "\r",
      "Progress:   1.5% words/sec/thread:  330687 lr:  0.787939 loss:  1.619662 ETA:   0h 0m\r",
      "Progress:   3.4% words/sec/thread:  367811 lr:  0.772869 loss:  1.491253 ETA:   0h 0m\r",
      "Progress:   5.3% words/sec/thread:  380461 lr:  0.757443 loss:  1.403956 ETA:   0h 0m\r",
      "Progress:   7.2% words/sec/thread:  384323 lr:  0.742361 loss:  1.320187 ETA:   0h 0m\r",
      "Progress:   9.1% words/sec/thread:  388638 lr:  0.726929 loss:  1.223613 ETA:   0h 0m\r",
      "Progress:  11.0% words/sec/thread:  390921 lr:  0.711662 loss:  1.146601 ETA:   0h 0m\r",
      "Progress:  12.9% words/sec/thread:  392958 lr:  0.696698 loss:  1.095879 ETA:   0h 0m\r",
      "Progress:  14.8% words/sec/thread:  393924 lr:  0.681741 loss:  1.002854 ETA:   0h 0m\r",
      "Progress:  16.7% words/sec/thread:  394505 lr:  0.666715 loss:  0.965254 ETA:   0h 0m\r",
      "Progress:  18.6% words/sec/thread:  395916 lr:  0.651150 loss:  0.937764 ETA:   0h 0m\r",
      "Progress:  20.4% words/sec/thread:  396198 lr:  0.636484 loss:  0.912760 ETA:   0h 0m\r",
      "Progress:  22.3% words/sec/thread:  396831 lr:  0.621774 loss:  0.898003 ETA:   0h 0m\r",
      "Progress:  24.1% words/sec/thread:  396835 lr:  0.607347 loss:  0.867470 ETA:   0h 0m\r",
      "Progress:  25.9% words/sec/thread:  397381 lr:  0.592607 loss:  0.842499 ETA:   0h 0m\r",
      "Progress:  27.8% words/sec/thread:  397925 lr:  0.577307 loss:  0.809860 ETA:   0h 0m\r",
      "Progress:  29.8% words/sec/thread:  398448 lr:  0.561828 loss:  0.793947 ETA:   0h 0m\r",
      "Progress:  31.6% words/sec/thread:  398385 lr:  0.546813 loss:  0.784845 ETA:   0h 0m\r",
      "Progress:  33.5% words/sec/thread:  398392 lr:  0.532287 loss:  0.766729 ETA:   0h 0m\r",
      "Progress:  35.3% words/sec/thread:  398256 lr:  0.517599 loss:  0.755699 ETA:   0h 0m\r",
      "Progress:  37.1% words/sec/thread:  398628 lr:  0.502826 loss:  0.742894 ETA:   0h 0m\r",
      "Progress:  39.0% words/sec/thread:  398542 lr:  0.488237 loss:  0.722588 ETA:   0h 0m\r",
      "Progress:  40.8% words/sec/thread:  398574 lr:  0.473213 loss:  0.707879 ETA:   0h 0m\r",
      "Progress:  42.7% words/sec/thread:  398039 lr:  0.458782 loss:  0.700528 ETA:   0h 0m\r",
      "Progress:  44.6% words/sec/thread:  398243 lr:  0.443459 loss:  0.689145 ETA:   0h 0m\r",
      "Progress:  46.4% words/sec/thread:  398469 lr:  0.428777 loss:  0.680493 ETA:   0h 0m\r",
      "Progress:  48.3% words/sec/thread:  398568 lr:  0.413798 loss:  0.673033 ETA:   0h 0m\r",
      "Progress:  50.2% words/sec/thread:  398959 lr:  0.398331 loss:  0.666418 ETA:   0h 0m\r",
      "Progress:  52.1% words/sec/thread:  399134 lr:  0.382939 loss:  0.656358 ETA:   0h 0m\r",
      "Progress:  53.9% words/sec/thread:  398979 lr:  0.368440 loss:  0.649941 ETA:   0h 0m\r",
      "Progress:  55.8% words/sec/thread:  399205 lr:  0.353270 loss:  0.640728 ETA:   0h 0m\r",
      "Progress:  57.8% words/sec/thread:  399461 lr:  0.337992 loss:  0.630828 ETA:   0h 0m\r",
      "Progress:  59.6% words/sec/thread:  399620 lr:  0.322874 loss:  0.624428 ETA:   0h 0m\r",
      "Progress:  61.5% words/sec/thread:  399629 lr:  0.307944 loss:  0.617132 ETA:   0h 0m\r",
      "Progress:  63.4% words/sec/thread:  399656 lr:  0.292679 loss:  0.604386 ETA:   0h 0m\r",
      "Progress:  65.3% words/sec/thread:  399644 lr:  0.277640 loss:  0.603828 ETA:   0h 0m\r",
      "Progress:  67.2% words/sec/thread:  399780 lr:  0.262227 loss:  0.598071 ETA:   0h 0m\r",
      "Progress:  69.1% words/sec/thread:  399804 lr:  0.246961 loss:  0.586568 ETA:   0h 0m\r",
      "Progress:  71.1% words/sec/thread:  400025 lr:  0.231585 loss:  0.580076 ETA:   0h 0m\r",
      "Progress:  72.9% words/sec/thread:  400100 lr:  0.216530 loss:  0.571572 ETA:   0h 0m\r",
      "Progress:  74.8% words/sec/thread:  400164 lr:  0.201779 loss:  0.565854 ETA:   0h 0m\r",
      "Progress:  76.7% words/sec/thread:  400206 lr:  0.186689 loss:  0.557895 ETA:   0h 0m\r",
      "Progress:  78.6% words/sec/thread:  400291 lr:  0.171301 loss:  0.549817 ETA:   0h 0m\r",
      "Progress:  80.5% words/sec/thread:  400308 lr:  0.156020 loss:  0.541152 ETA:   0h 0m\r",
      "Progress:  82.3% words/sec/thread:  400335 lr:  0.141439 loss:  0.534675 ETA:   0h 0m\r",
      "Progress:  84.3% words/sec/thread:  400508 lr:  0.125892 loss:  0.526293 ETA:   0h 0m\r",
      "Progress:  86.1% words/sec/thread:  400322 lr:  0.110958 loss:  0.515082 ETA:   0h 0m\r",
      "Progress:  88.0% words/sec/thread:  400284 lr:  0.096114 loss:  0.507290 ETA:   0h 0m\r",
      "Progress:  89.9% words/sec/thread:  400421 lr:  0.080909 loss:  0.497986 ETA:   0h 0m\r",
      "Progress:  91.7% words/sec/thread:  400491 lr:  0.066116 loss:  0.491146 ETA:   0h 0m\r",
      "Progress:  93.6% words/sec/thread:  400463 lr:  0.051567 loss:  0.483812 ETA:   0h 0m\r",
      "Progress:  95.4% words/sec/thread:  400651 lr:  0.036546 loss:  0.474505 ETA:   0h 0m\r",
      "Progress:  97.3% words/sec/thread:  400680 lr:  0.021818 loss:  0.469892 ETA:   0h 0m\r",
      "Progress:  99.1% words/sec/thread:  400703 lr:  0.007105 loss:  0.462305 ETA:   0h 0m\r",
      "Progress: 100.1% words/sec/thread:  397297 lr: -0.000711 loss:  0.458082 ETA:   0h 0m\r",
      "Progress: 100.0% words/sec/thread:  397281 lr:  0.000000 loss:  0.458082 ETA:   0h 0m\n"
     ]
    }
   ],
   "source": [
    "%%bash\n",
    "./fastText/fasttext supervised -input ft_train.txt -output ft_model_2grams -epoch 100 -lr 0.8 -dim 100 -wordNgrams 2"
   ]
  },
  {
   "cell_type": "code",
   "execution_count": 95,
   "metadata": {},
   "outputs": [
    {
     "name": "stdout",
     "output_type": "stream",
     "text": [
      "N\t1740\n",
      "P@1\t0.779\n",
      "R@1\t0.779\n"
     ]
    }
   ],
   "source": [
    "%%bash\n",
    "./fastText/fasttext test ft_model_2grams.bin ft_test.txt"
   ]
  },
  {
   "cell_type": "markdown",
   "metadata": {},
   "source": [
    "## Классификация новых текстов"
   ]
  },
  {
   "cell_type": "code",
   "execution_count": 96,
   "metadata": {},
   "outputs": [
    {
     "name": "stdout",
     "output_type": "stream",
     "text": [
      "Categories:\n",
      "0 - comp.graphics\n",
      "1 - rec.autos\n",
      "2 - sci.space\n",
      "3 - talk.politics.misc\n",
      "4 - talk.religion.misc\n"
     ]
    }
   ],
   "source": [
    "print('Categories:')\n",
    "for i in range(5):\n",
    "    print(f'{i} - {data_train.target_names[i]}')"
   ]
  },
  {
   "cell_type": "code",
   "execution_count": 99,
   "metadata": {},
   "outputs": [
    {
     "data": {
      "text/plain": [
       "'comput cool stuff like work softwar'"
      ]
     },
     "execution_count": 99,
     "metadata": {},
     "output_type": "execute_result"
    }
   ],
   "source": [
    "preprocess_text(\"Computers are cool stuff. I'd  like to work with software.\")"
   ]
  },
  {
   "cell_type": "code",
   "execution_count": 100,
   "metadata": {},
   "outputs": [
    {
     "name": "stdout",
     "output_type": "stream",
     "text": [
      "__label__0\n"
     ]
    }
   ],
   "source": [
    "%%bash\n",
    "./fastText/fasttext predict ft_model.bin -\n",
    "comput cool stuff like work softwar"
   ]
  },
  {
   "cell_type": "markdown",
   "metadata": {},
   "source": [
    "### Топ-3 предсказанных категорий"
   ]
  },
  {
   "cell_type": "code",
   "execution_count": 101,
   "metadata": {},
   "outputs": [
    {
     "data": {
      "text/plain": [
       "'russian presid sign new migrat polici concept'"
      ]
     },
     "execution_count": 101,
     "metadata": {},
     "output_type": "execute_result"
    }
   ],
   "source": [
    "preprocess_text(\"Russian President signs new migration policy concept.\")"
   ]
  },
  {
   "cell_type": "code",
   "execution_count": 102,
   "metadata": {},
   "outputs": [
    {
     "name": "stdout",
     "output_type": "stream",
     "text": [
      "__label__3 __label__1 __label__2\n"
     ]
    }
   ],
   "source": [
    "%%bash\n",
    "./fastText/fasttext predict ft_model.bin - 3\n",
    "russian presid sign new migrat polici concept"
   ]
  },
  {
   "cell_type": "markdown",
   "metadata": {},
   "source": [
    "# Задание на практику"
   ]
  },
  {
   "cell_type": "markdown",
   "metadata": {},
   "source": [
    "Поменять параметры классификатора и/или алгоритм предобработки датасета, чтобы добиться более высоких показателей точности и полноты."
   ]
  }
 ],
 "metadata": {
  "kernelspec": {
   "display_name": "Python 3",
   "language": "python",
   "name": "python3"
  },
  "language_info": {
   "codemirror_mode": {
    "name": "ipython",
    "version": 3
   },
   "file_extension": ".py",
   "mimetype": "text/x-python",
   "name": "python",
   "nbconvert_exporter": "python",
   "pygments_lexer": "ipython3",
   "version": "3.6.2"
  }
 },
 "nbformat": 4,
 "nbformat_minor": 2
}
